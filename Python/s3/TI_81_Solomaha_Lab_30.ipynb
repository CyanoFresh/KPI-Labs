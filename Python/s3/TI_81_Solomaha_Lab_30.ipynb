{
 "cells": [
  {
   "cell_type": "markdown",
   "metadata": {},
   "source": [
    "<div style=\"text-align:center; font-size:2rem\">\n",
    "КПІ ім. І. Сікорського<br>\n",
    "Телпоенергетичний факультет<br>\n",
    "Кафедра АПЕПС<br><br>\n",
    "Лабораторна робота №30<br>\n",
    "Варіант №17<br><br>\n",
    "Виконав: <br>\n",
    "студент гр. ТІ-81<br>\n",
    "Соломаха О. О.<br><br>\n",
    "Перевірив:<br>\n",
    "Сігайов А. О.<br><br>\n",
    "Київ КПІ 2019<br>\n",
    "</div>"
   ]
  },
  {
   "cell_type": "markdown",
   "metadata": {
    "pycharm": {
     "name": "#%% md\n"
    }
   },
   "source": [
    "## Варіант №17\n",
    "\n",
    "### Завдання №678\n",
    "\n",
    "Дано дійсну квадратну матрицю порядка $n$. Переробити матрицю по правилу: строку з номером $n$ зробити стовпцем з номером $n$,\n",
    "а стовпець з номером $n$ зробити строкою з номером $n$"
   ]
  },
  {
   "cell_type": "code",
   "execution_count": 8,
   "metadata": {
    "pycharm": {
     "name": "#%%\n"
    }
   },
   "outputs": [
    {
     "name": "stdout",
     "output_type": "stream",
     "text": [
      "Enter n: 5\n",
      "[2, 4, 0, -1, 6]\n",
      "[0, 9, 1, 1, 4]\n",
      "[-7, -9, -4, 4, -3]\n",
      "[3, -2, 5, -10, -9]\n",
      "[-8, -7, 7, 9, -5]\n",
      "\n",
      "[2, 4, 0, -1, -8]\n",
      "[0, 9, 1, 1, -7]\n",
      "[-7, -9, -4, 4, 7]\n",
      "[3, -2, 5, -10, 9]\n",
      "[6, 4, -3, -9, -5]\n"
     ]
    }
   ],
   "source": [
    "import random\n",
    "\n",
    "n = int(input('Enter n: '))\n",
    "A = [[random.randint(-10, 10) for _ in range(n)] for _ in range(n)]\n",
    "R = [[(A[j][i] if i == n - 1 or j == n - 1 else A[i][j]) for j in range(n)] for i in range(n)]\n",
    "\n",
    "for row in A: print(row)\n",
    "print()\n",
    "for row in R: print(row)"
   ]
  },
  {
   "cell_type": "markdown",
   "metadata": {},
   "source": [
    "### Завдання №713\n",
    "\n",
    "Слідом квадратної називається сума елементів головної діагоналі. Дано квадратну матрицю порядку $m$, натуральне число $n$.\n",
    "Обчислити сліди матриць $A,A^2,...,A^n$."
   ]
  },
  {
   "cell_type": "code",
   "execution_count": 6,
   "metadata": {
    "pycharm": {
     "name": "#%%\n"
    }
   },
   "outputs": [
    {
     "name": "stdout",
     "output_type": "stream",
     "text": [
      "Enter m: 4\n",
      "Enter n: 2\n",
      "[-4, -60]\n"
     ]
    }
   ],
   "source": [
    "import random\n",
    "import numpy as np\n",
    "\n",
    "m, n = int(input('Enter m: ')), int(input('Enter n: '))\n",
    "A = np.array([[random.randint(-10, 10) for _ in range(m)] for _ in range(m)])\n",
    "\n",
    "print([sum(np.linalg.matrix_power(A, power).diagonal()) for power in range(1, n + 1)])"
   ]
  },
  {
   "cell_type": "code",
   "execution_count": null,
   "metadata": {},
   "outputs": [],
   "source": []
  }
 ],
 "metadata": {
  "kernelspec": {
   "display_name": "Python 3",
   "language": "python",
   "name": "python3"
  },
  "language_info": {
   "codemirror_mode": {
    "name": "ipython",
    "version": 3
   },
   "file_extension": ".py",
   "mimetype": "text/x-python",
   "name": "python",
   "nbconvert_exporter": "python",
   "pygments_lexer": "ipython3",
   "version": "3.7.4"
  },
  "pycharm": {
   "stem_cell": {
    "cell_type": "raw",
    "metadata": {
     "collapsed": false
    },
    "source": []
   }
  }
 },
 "nbformat": 4,
 "nbformat_minor": 2
}
