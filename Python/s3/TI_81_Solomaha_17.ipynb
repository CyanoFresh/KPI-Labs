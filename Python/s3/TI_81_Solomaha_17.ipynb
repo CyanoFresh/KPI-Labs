{
 "cells": [
  {
   "cell_type": "markdown",
   "metadata": {},
   "source": [
    "<div style=\"text-align:center; font-size:2rem\">\n",
    "КПІ ім. І. Сікорського<br>\n",
    "Телпоенергетичний факультет<br>\n",
    "Кафедра АПЕПС<br><br>\n",
    "Лабораторна робота №17<br>\n",
    "Варіант №17<br><br>\n",
    "Виконав: <br>\n",
    "студент гр. ТІ-81<br>\n",
    "Соломаха О. О.<br><br>\n",
    "Перевірив:<br>\n",
    "Сігайов А. О.<br><br>\n",
    "Київ КПІ 2019<br>\n",
    "</div>"
   ]
  },
  {
   "cell_type": "markdown",
   "metadata": {},
   "source": [
    "## Варіант №17\n",
    "\n",
    "### Завдання №353\n",
    "\n",
    "Дано натуральні числа $x_1,y_1,...,x_{10},y_{10}$. Отримати на екрані точки $(x_1,y_1),...,(x_{10},y_{10})$, котрі входять у цю послідовність рівно 1 раз"
   ]
  },
  {
   "cell_type": "code",
   "execution_count": 2,
   "metadata": {
    "pycharm": {
     "is_executing": false,
     "name": "#%%\n"
    }
   },
   "outputs": [
    {
     "name": "stdout",
     "output_type": "stream",
     "text": [
      "x,y [-1, 17, -4, 16, 11, 6, 6, 2, 11, -16, -3, -12, -4, -18, 5, 7, -16, 13, 14, -5]\n",
      "points {(11, -16), (-4, 16), (-3, -12), (5, 7), (14, -5), (-1, 17), (6, 2), (-4, -18), (-16, 13), (11, 6)}\n"
     ]
    },
    {
     "data": {
      "image/png": "[encoded data removed]",
      "text/plain": [
       "<Figure size 432x288 with 1 Axes>"
      ]
     },
     "metadata": {
      "needs_background": "light"
     },
     "output_type": "display_data"
    }
   ],
   "source": [
    "import random\n",
    "import matplotlib.pyplot as plt\n",
    "\n",
    "coordinates = [random.randrange(-20, 20) for _ in range(20)]\n",
    "print('x,y', coordinates)\n",
    "\n",
    "points = set()\n",
    "\n",
    "i = 0\n",
    "while i < 20:\n",
    "    points.add((coordinates[i], coordinates[i + 1]))\n",
    "    i += 2\n",
    "\n",
    "print('points', points)\n",
    "\n",
    "for point in points:\n",
    "    plt.scatter(point[0], point[1])\n",
    "\n",
    "#plt.show()\n"
   ]
  },
  {
   "cell_type": "code",
   "execution_count": null,
   "metadata": {},
   "outputs": [],
   "source": []
  },
  {
   "cell_type": "code",
   "execution_count": null,
   "metadata": {},
   "outputs": [],
   "source": []
  }
 ],
 "metadata": {
  "kernelspec": {
   "display_name": "Python 3",
   "language": "python",
   "name": "python3"
  },
  "language_info": {
   "codemirror_mode": {
    "name": "ipython",
    "version": 3
   },
   "file_extension": ".py",
   "mimetype": "text/x-python",
   "name": "python",
   "nbconvert_exporter": "python",
   "pygments_lexer": "ipython3",
   "version": "3.7.4"
  },
  "pycharm": {
   "stem_cell": {
    "cell_type": "raw",
    "metadata": {
     "collapsed": false
    },
    "source": []
   }
  }
 },
 "nbformat": 4,
 "nbformat_minor": 2
}
