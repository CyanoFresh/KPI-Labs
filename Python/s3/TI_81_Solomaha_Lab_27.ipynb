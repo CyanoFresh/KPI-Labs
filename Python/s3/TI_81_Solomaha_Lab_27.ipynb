{
 "cells": [
  {
   "cell_type": "markdown",
   "metadata": {},
   "source": [
    "<div style=\"text-align:center; font-size:2rem\">\n",
    "КПІ ім. І. Сікорського<br>\n",
    "Телпоенергетичний факультет<br>\n",
    "Кафедра АПЕПС<br><br>\n",
    "Лабораторна робота №27<br>\n",
    "Варіант №17<br><br>\n",
    "Виконав: <br>\n",
    "студент гр. ТІ-81<br>\n",
    "Соломаха О. О.<br><br>\n",
    "Перевірив:<br>\n",
    "Сігайов А. О.<br><br>\n",
    "Київ КПІ 2019<br>\n",
    "</div>"
   ]
  },
  {
   "cell_type": "markdown",
   "metadata": {},
   "source": [
    "## Варіант №17\n",
    "\n",
    "### Завдання №569\n",
    "\n",
    "Дано натуральне число $n$. Отримати у порядку зростання $n$ перших натуральних чисел, котрі\n",
    "не діляться ні на які прості числа, крім 2,3,5."
   ]
  },
  {
   "cell_type": "code",
   "execution_count": 2,
   "metadata": {
    "pycharm": {
     "is_executing": false,
     "name": "#%%\n"
    }
   },
   "outputs": [
    {
     "name": "stdout",
     "output_type": "stream",
     "text": [
      "Enter n: 100\n",
      "2\n",
      "3\n",
      "4\n",
      "5\n",
      "6\n",
      "8\n",
      "9\n",
      "10\n",
      "12\n",
      "15\n",
      "16\n",
      "18\n",
      "20\n",
      "24\n",
      "25\n",
      "27\n",
      "30\n",
      "32\n",
      "36\n",
      "40\n",
      "45\n",
      "48\n",
      "50\n",
      "54\n",
      "60\n",
      "64\n",
      "72\n",
      "75\n",
      "80\n",
      "81\n",
      "90\n",
      "96\n",
      "100\n",
      "108\n",
      "120\n",
      "125\n",
      "128\n",
      "135\n",
      "144\n",
      "150\n",
      "160\n",
      "162\n",
      "180\n",
      "192\n",
      "200\n",
      "216\n",
      "225\n",
      "240\n",
      "243\n",
      "250\n",
      "256\n",
      "270\n",
      "288\n",
      "300\n",
      "320\n",
      "324\n",
      "360\n",
      "375\n",
      "384\n",
      "400\n",
      "405\n",
      "432\n",
      "450\n",
      "480\n",
      "486\n",
      "500\n",
      "512\n",
      "540\n",
      "576\n",
      "600\n",
      "625\n",
      "640\n",
      "648\n",
      "675\n",
      "720\n",
      "729\n",
      "750\n",
      "768\n",
      "800\n",
      "810\n",
      "864\n",
      "900\n",
      "960\n",
      "972\n",
      "1000\n",
      "1024\n",
      "1080\n",
      "1125\n",
      "1152\n",
      "1200\n",
      "1215\n",
      "1250\n",
      "1280\n",
      "1296\n",
      "1350\n",
      "1440\n",
      "1458\n",
      "1500\n",
      "1536\n",
      "1600\n"
     ]
    }
   ],
   "source": [
    "def is_suitable(num):\n",
    "    while num % 2 == 0:\n",
    "        num /= 2\n",
    "    while num % 3 == 0:\n",
    "        num /= 3\n",
    "    while num % 5 == 0:\n",
    "        num /= 5\n",
    "\n",
    "    return num == 1\n",
    "\n",
    "\n",
    "n = int(input('Enter n: '))\n",
    "\n",
    "count = 0\n",
    "num = 2\n",
    "while count < n:\n",
    "    if is_suitable(num):\n",
    "        print(num)\n",
    "        count += 1\n",
    "    num += 1"
   ]
  },
  {
   "cell_type": "code",
   "execution_count": null,
   "metadata": {},
   "outputs": [],
   "source": []
  }
 ],
 "metadata": {
  "kernelspec": {
   "display_name": "Python 3",
   "language": "python",
   "name": "python3"
  },
  "language_info": {
   "codemirror_mode": {
    "name": "ipython",
    "version": 3
   },
   "file_extension": ".py",
   "mimetype": "text/x-python",
   "name": "python",
   "nbconvert_exporter": "python",
   "pygments_lexer": "ipython3",
   "version": "3.7.4"
  },
  "pycharm": {
   "stem_cell": {
    "cell_type": "raw",
    "metadata": {
     "collapsed": false
    },
    "source": []
   }
  }
 },
 "nbformat": 4,
 "nbformat_minor": 2
}
