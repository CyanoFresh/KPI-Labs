{
 "cells": [
  {
   "cell_type": "markdown",
   "metadata": {},
   "source": [
    "<div style=\"text-align:center; font-size:2rem\">\n",
    "КПІ ім. І. Сікорського<br>\n",
    "Телпоенергетичний факультет<br>\n",
    "Кафедра АПЕПС<br><br>\n",
    "Лабораторна робота №16<br>\n",
    "Варіант №17<br><br>\n",
    "Виконав: <br>\n",
    "студент гр. ТІ-81<br>\n",
    "Соломаха О. О.<br><br>\n",
    "Перевірив:<br>\n",
    "Сігайов А. О.<br><br>\n",
    "Київ КПІ 2019<br>\n",
    "</div>"
   ]
  },
  {
   "cell_type": "markdown",
   "metadata": {},
   "source": [
    "## Варіант №17\n",
    "\n",
    "### Завдання №310\n",
    "\n",
    "Дано натуральне число $n$, дійсні числа $a_1,...,a_n$. Отримати $b_1,...,b_{10}$, де $b_i$ дорівнює сумі тих членів \n",
    "послідовності $a_1,...,a_n$, котрі належать напівінтервалу ($i - 1, i$] ($i = 1,...,10$). \n",
    "Якщо напівінтервал не має членів послідовності, то відповідні $b_i$ покласти рівними нулю"
   ]
  },
  {
   "cell_type": "code",
   "execution_count": 1,
   "metadata": {
    "pycharm": {
     "is_executing": false,
     "name": "#%%\n"
    }
   },
   "outputs": [
    {
     "name": "stdout",
     "output_type": "stream",
     "text": [
      "Enter n: 30\n",
      "a [18, 70, 36, 25, 21, 41, 48, 67, 8, 28, 62, 16, 27, 2, 15, 85, 65, 7, 44, 45, 6, 30, 84, 54, 63, 47, 40, 0, 60, 51]\n",
      "b [0, 2, 0, 0, 0, 6, 7, 8, 0, 0]\n"
     ]
    }
   ],
   "source": [
    "import random\n",
    "\n",
    "n = int(input('Enter n: '))\n",
    "a = random.sample(range(100), n)\n",
    "print('a', a)\n",
    "\n",
    "b = [sum([a for a in a if i - 1 < a <= i]) for i in range(1, 11)]\n",
    "\n",
    "print('b', b)"
   ]
  },
  {
   "cell_type": "code",
   "execution_count": null,
   "metadata": {},
   "outputs": [],
   "source": []
  }
 ],
 "metadata": {
  "kernelspec": {
   "display_name": "Python 3",
   "language": "python",
   "name": "python3"
  },
  "language_info": {
   "codemirror_mode": {
    "name": "ipython",
    "version": 3
   },
   "file_extension": ".py",
   "mimetype": "text/x-python",
   "name": "python",
   "nbconvert_exporter": "python",
   "pygments_lexer": "ipython3",
   "version": "3.7.4"
  },
  "pycharm": {
   "stem_cell": {
    "cell_type": "raw",
    "source": [],
    "metadata": {
     "collapsed": false
    }
   }
  }
 },
 "nbformat": 4,
 "nbformat_minor": 2
}