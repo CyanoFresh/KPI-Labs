{
 "cells": [
  {
   "cell_type": "markdown",
   "metadata": {},
   "source": [
    "<div style=\"text-align:center; font-size:2rem\">\n",
    "КПІ ім. І. Сікорського<br>\n",
    "Телпоенергетичний факультет<br>\n",
    "Кафедра АПЕПС<br><br>\n",
    "Лабораторна робота №18<br>\n",
    "Варіант №17<br><br>\n",
    "Виконав: <br>\n",
    "студент гр. ТІ-81<br>\n",
    "Соломаха О. О.<br><br>\n",
    "Перевірив:<br>\n",
    "Сігайов А. О.<br><br>\n",
    "Київ КПІ 2019<br>\n",
    "</div>"
   ]
  },
  {
   "cell_type": "markdown",
   "metadata": {},
   "source": [
    "## Варіант №17\n",
    "\n",
    "### Завдання №349\n",
    "\n",
    "Дано цілі числа $a_1,...,a_n$. Для кожного з чисел визначити скільки раз воно входить у цю послідовність. Результат подати у вигляді ряда строк виду\n",
    "$a_i - m$, де m - число входжень $a_i$ у цю послідовність."
   ]
  },
  {
   "cell_type": "code",
   "execution_count": 1,
   "metadata": {
    "pycharm": {
     "is_executing": false,
     "name": "#%%\n"
    }
   },
   "outputs": [
    {
     "name": "stdout",
     "output_type": "stream",
     "text": [
      "Enter n: 5\n",
      "a [9, 9, 2, 5, 8]\n",
      "9 - 2\n",
      "2 - 1\n",
      "5 - 1\n",
      "8 - 1\n"
     ]
    }
   ],
   "source": [
    "import random\n",
    "import collections\n",
    "\n",
    "n = int(input('Enter n: '))\n",
    "a = [random.randrange(0, 10) for _ in range(n)]\n",
    "\n",
    "print('a', a)\n",
    "\n",
    "counter = collections.Counter(a)\n",
    "\n",
    "for num, frequency in counter.items():\n",
    "    print(num, '-', frequency)\n",
    "\n"
   ]
  },
  {
   "cell_type": "code",
   "execution_count": null,
   "metadata": {},
   "outputs": [],
   "source": []
  }
 ],
 "metadata": {
  "kernelspec": {
   "display_name": "Python 3",
   "language": "python",
   "name": "python3"
  },
  "language_info": {
   "codemirror_mode": {
    "name": "ipython",
    "version": 3
   },
   "file_extension": ".py",
   "mimetype": "text/x-python",
   "name": "python",
   "nbconvert_exporter": "python",
   "pygments_lexer": "ipython3",
   "version": "3.7.4"
  },
  "pycharm": {
   "stem_cell": {
    "cell_type": "raw",
    "metadata": {
     "collapsed": false
    },
    "source": []
   }
  }
 },
 "nbformat": 4,
 "nbformat_minor": 2
}
