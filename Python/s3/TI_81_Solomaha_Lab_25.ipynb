{
 "cells": [
  {
   "cell_type": "markdown",
   "metadata": {},
   "source": [
    "<div style=\"text-align:center; font-size:2rem\">\n",
    "КПІ ім. І. Сікорського<br>\n",
    "Телпоенергетичний факультет<br>\n",
    "Кафедра АПЕПС<br><br>\n",
    "Лабораторна робота №25<br>\n",
    "Варіант №17<br><br>\n",
    "Виконав: <br>\n",
    "студент гр. ТІ-81<br>\n",
    "Соломаха О. О.<br><br>\n",
    "Перевірив:<br>\n",
    "Сігайов А. О.<br><br>\n",
    "Київ КПІ 2019<br>\n",
    "</div>"
   ]
  },
  {
   "cell_type": "markdown",
   "metadata": {},
   "source": [
    "## Варіант №17\n",
    "\n",
    "### Завдання №531\n",
    "\n",
    "Дано натуральне число $n$, дійсні числа $x_1,...,x_n$ $(n \\geq 2)$. Отримати послідовність\n",
    "$x_1-x_n,x_2-x_n,...,x_{n-1}-x_n$"
   ]
  },
  {
   "cell_type": "code",
   "execution_count": 2,
   "metadata": {
    "pycharm": {
     "is_executing": false,
     "name": "#%%\n"
    }
   },
   "outputs": [
    {
     "name": "stdout",
     "output_type": "stream",
     "text": [
      "Enter n: 5\n",
      "x [90, 45, 41, 87, 21]\n",
      "[69, 24, 20, 66]\n"
     ]
    }
   ],
   "source": [
    "import random\n",
    "\n",
    "n = int(input('Enter n: '))\n",
    "x = random.sample(range(100), n)\n",
    "\n",
    "print('x', x)\n",
    "\n",
    "print([x[i] - x[n-1] for i in range(n-1)])"
   ]
  },
  {
   "cell_type": "code",
   "execution_count": null,
   "metadata": {},
   "outputs": [],
   "source": []
  }
 ],
 "metadata": {
  "kernelspec": {
   "display_name": "Python 3",
   "language": "python",
   "name": "python3"
  },
  "language_info": {
   "codemirror_mode": {
    "name": "ipython",
    "version": 3
   },
   "file_extension": ".py",
   "mimetype": "text/x-python",
   "name": "python",
   "nbconvert_exporter": "python",
   "pygments_lexer": "ipython3",
   "version": "3.7.4"
  },
  "pycharm": {
   "stem_cell": {
    "cell_type": "raw",
    "metadata": {
     "collapsed": false
    },
    "source": []
   }
  }
 },
 "nbformat": 4,
 "nbformat_minor": 2
}
