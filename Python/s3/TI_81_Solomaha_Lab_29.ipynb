{
 "cells": [
  {
   "cell_type": "markdown",
   "metadata": {},
   "source": [
    "<div style=\"text-align:center; font-size:2rem\">\n",
    "КПІ ім. І. Сікорського<br>\n",
    "Телпоенергетичний факультет<br>\n",
    "Кафедра АПЕПС<br><br>\n",
    "Лабораторна робота №29<br>\n",
    "Варіант №17<br><br>\n",
    "Виконав: <br>\n",
    "студент гр. ТІ-81<br>\n",
    "Соломаха О. О.<br><br>\n",
    "Перевірив:<br>\n",
    "Сігайов А. О.<br><br>\n",
    "Київ КПІ 2019<br>\n",
    "</div>"
   ]
  },
  {
   "cell_type": "markdown",
   "metadata": {
    "pycharm": {
     "name": "#%% md\n"
    }
   },
   "source": [
    "## Варіант №17\n",
    "\n",
    "### Завдання №622\n",
    "\n",
    "Дано дійсні числа $a_1,b_1,c_1,...,a_n,b_n,c_n$. Ця послідонвність визначає на площині $n$ квадратів зі сторонами: \n",
    "$a_i,b_i$ - координати центра квадрату, $c_i$ - довжина його сторони. Обчислити площу фігури, отриману усіма квадратами.\n",
    "\n",
    "Тут може бути корисним попереднє вирішення наступної задачі.\n",
    "Сторони 2 прямокутників паралельні координатним осям. Кожен із прямокутників задано 4 числами - двома абсцисами та двома ординатами. Показати ту частину першого прямокутника, котра не покривається іншим прямокутником, у вигляді декількох прямокутників, які не накладаються один на одного"
   ]
  },
  {
   "cell_type": "code",
   "execution_count": 5,
   "metadata": {
    "pycharm": {
     "is_executing": false,
     "name": "#%%\n"
    }
   },
   "outputs": [
    {
     "data": {
      "image/png": "[encoded data removed]",
      "text/plain": [
       "<Figure size 432x288 with 1 Axes>"
      ]
     },
     "metadata": {
      "needs_background": "light"
     },
     "output_type": "display_data"
    },
    {
     "name": "stdout",
     "output_type": "stream",
     "text": [
      "Input = [(3, 3, 2), (4, 4, 1), (5, 5, 2)]\n",
      "Area = 8.5\n"
     ]
    }
   ],
   "source": [
    "import random\n",
    "import matplotlib.pyplot as plt\n",
    "from matplotlib.patches import Rectangle\n",
    "\n",
    "\n",
    "def get_intersection_area(a, b):\n",
    "    '''Get intersected area of 2 rectangles\n",
    "    Returns:\n",
    "    float:Intersected area (0 if there is no intersection)\n",
    "    '''\n",
    "    l1 = a[0]\n",
    "    l2 = b[0]\n",
    "    r1 = a[1]\n",
    "    r2 = b[1]\n",
    "\n",
    "    dx = min(r1[0], r2[0]) - max(l1[1], l2[1])\n",
    "    dy = min(r1[1], r2[1]) - max(l1[1], l2[1])\n",
    "\n",
    "    if (dx >= 0) and (dy >= 0):\n",
    "        return dx * dy\n",
    "\n",
    "    return 0\n",
    "\n",
    "\n",
    "def get_bl_coord(rectangle_data):\n",
    "    '''Find the bottom left coordinate of rectangle by given center coordinate'''\n",
    "    a = rectangle_data[0]\n",
    "    b = rectangle_data[1]\n",
    "    c_2 = rectangle_data[2] / 2\n",
    "    return a - c_2, b - c_2\n",
    "\n",
    "# Hard-coded input: 3 rectangles\n",
    "tasks = [(3, 3, 2), (4, 4, 1), (5, 5, 2)]\n",
    "\n",
    "# !!! UNCOMMENT FOR RANDOMIZED INPUT:\n",
    "# n = int(input('Enter n: '))\n",
    "# tasks = [(random.randint(0, 10), random.randint(0, 10), random.randint(1, 6)) for _ in range(n)]\n",
    "\n",
    "rects = [Rectangle(get_bl_coord(task), task[2], task[2], facecolor='none', edgecolor='b', alpha=0.5, linewidth=3) for task in tasks]\n",
    "\n",
    "ax = plt.gca()\n",
    "area = 0\n",
    "\n",
    "for (i, a) in enumerate(rects):\n",
    "    ax.add_patch(a)\n",
    "    area += a.get_height() ** 2\n",
    "    for (j, b) in enumerate(rects):\n",
    "        if i != j:   # Exclude current rectangle\n",
    "            area_i = get_intersection_area(a.get_bbox().get_points(), b.get_bbox().get_points())\n",
    "            area -= area_i / 2\n",
    "\n",
    "plt.axis('scaled')\n",
    "plt.show()\n",
    "\n",
    "print('Input =', tasks)\n",
    "print('Area =', area)\n",
    "\n"
   ]
  },
  {
   "cell_type": "code",
   "execution_count": null,
   "metadata": {},
   "outputs": [],
   "source": []
  }
 ],
 "metadata": {
  "kernelspec": {
   "display_name": "Python 3",
   "language": "python",
   "name": "python3"
  },
  "language_info": {
   "codemirror_mode": {
    "name": "ipython",
    "version": 3
   },
   "file_extension": ".py",
   "mimetype": "text/x-python",
   "name": "python",
   "nbconvert_exporter": "python",
   "pygments_lexer": "ipython3",
   "version": "3.7.4"
  },
  "pycharm": {
   "stem_cell": {
    "cell_type": "raw",
    "metadata": {
     "collapsed": false
    },
    "source": []
   }
  }
 },
 "nbformat": 4,
 "nbformat_minor": 2
}
