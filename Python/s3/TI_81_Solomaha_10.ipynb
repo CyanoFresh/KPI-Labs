{
 "cells": [
  {
   "cell_type": "markdown",
   "metadata": {},
   "source": [
    "<div style=\"text-align:center; font-size:2rem\">\n",
    "КПІ ім. І. Сікорського<br>\n",
    "Телпоенергетичний факультет<br>\n",
    "Кафедра АПЕПС<br><br>\n",
    "Лабораторна робота №10<br>\n",
    "Варіант №17<br><br>\n",
    "Виконав: <br>\n",
    "студент гр. ТІ-81<br>\n",
    "Соломаха О. О.<br><br>\n",
    "Перевірив:<br>\n",
    "Сігайов А. О.<br><br>\n",
    "Київ КПІ 2019<br>\n",
    "</div>"
   ]
  },
  {
   "cell_type": "markdown",
   "metadata": {},
   "source": [
    "## Варіант №17\n",
    "\n",
    "### Завдання №185\n",
    "\n",
    "Дано натуральне число $n$, дійсні числа $a_1,...,a_n$. Обчислити здвоєну суму усіх додатніх членів цієї послідовності.\n"
   ]
  },
  {
   "cell_type": "code",
   "execution_count": 1,
   "metadata": {
    "pycharm": {
     "is_executing": false,
     "name": "#%%\n"
    }
   },
   "outputs": [
    {
     "name": "stdout",
     "output_type": "stream",
     "text": [
      "430\n"
     ]
    }
   ],
   "source": [
    "import random\n",
    "\n",
    "n = int(input('Enter n: '))\n",
    "a = random.sample(range(-100, 100), n)\n",
    "\n",
    "s = sum([var for var in a if var > 0]) * 2\n",
    "\n",
    "print('Doubled Sum =', s)"
   ]
  }
 ],
 "metadata": {
  "kernelspec": {
   "display_name": "Python 3",
   "language": "python",
   "name": "python3"
  },
  "language_info": {
   "codemirror_mode": {
    "name": "ipython",
    "version": 3
   },
   "file_extension": ".py",
   "mimetype": "text/x-python",
   "name": "python",
   "nbconvert_exporter": "python",
   "pygments_lexer": "ipython3",
   "version": "3.7.4"
  },
  "pycharm": {
   "stem_cell": {
    "cell_type": "raw",
    "source": [],
    "metadata": {
     "collapsed": false
    }
   }
  }
 },
 "nbformat": 4,
 "nbformat_minor": 2
}