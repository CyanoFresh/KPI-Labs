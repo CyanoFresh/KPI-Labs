{
 "cells": [
  {
   "cell_type": "markdown",
   "metadata": {},
   "source": [
    "<div style=\"text-align:center; font-size:2rem\">\n",
    "КПІ ім. І. Сікорського<br>\n",
    "Телпоенергетичний факультет<br>\n",
    "Кафедра АПЕПС<br><br>\n",
    "Лабораторна робота №1<br>\n",
    "Варіант №17<br><br>\n",
    "Виконав: <br>\n",
    "студент гр. ТІ-81<br>\n",
    "Соломаха О. О.<br><br>\n",
    "Перевірив:<br>\n",
    "Сігайов А. О.<br><br>\n",
    "Київ КПІ 2019<br>\n",
    "</div>"
   ]
  },
  {
   "cell_type": "markdown",
   "metadata": {},
   "source": [
    "## Варіант №17\n",
    "\n",
    "### Завдання\n",
    "\n",
    "Знайти площу кільця, внутрішній радіус якого дорівнює 20, а зовнішній - заданому числу r (r > 20)"
   ]
  },
  {
   "cell_type": "code",
   "execution_count": 1,
   "metadata": {
    "pycharm": {
     "is_executing": false
    }
   },
   "outputs": [
    {
     "name": "stdout",
     "text": [
      "S = 128.8052987971815 square units\n"
     ],
     "output_type": "stream"
    }
   ],
   "source": [
    "import math\n",
    "\n",
    "innerR = 20.0\n",
    "\n",
    "# Get first input\n",
    "outerR = float(input('Enter r (r > 20): '))\n",
    "\n",
    "# Ensure requirement\n",
    "while outerR <= innerR:\n",
    "    outerR = float(input('Enter r (r > 20): '))\n",
    "\n",
    "# Print result\n",
    "print('S =', math.pi * (outerR * outerR - innerR * innerR), 'square units')"
   ]
  },
  {
   "cell_type": "markdown",
   "metadata": {},
   "source": [
    "Input | Output\n",
    "--- | ---\n",
    "`-100` | `Enter r (r > 20)`\n",
    "`10` | `Enter r (r > 20)`\n",
    "`20` | `Enter r (r > 20)`\n",
    "`30` | `S = 1570.7963267948965 square units`\n",
    "`100` | `S = 30159.289474462013 square units`"
   ]
  }
 ],
 "metadata": {
  "kernelspec": {
   "display_name": "Python 3",
   "language": "python",
   "name": "python3"
  },
  "language_info": {
   "codemirror_mode": {
    "name": "ipython",
    "version": 3
   },
   "file_extension": ".py",
   "mimetype": "text/x-python",
   "name": "python",
   "nbconvert_exporter": "python",
   "pygments_lexer": "ipython3",
   "version": "3.7.4"
  }
 },
 "nbformat": 4,
 "nbformat_minor": 2
}