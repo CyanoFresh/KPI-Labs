{
 "cells": [
  {
   "cell_type": "markdown",
   "metadata": {},
   "source": [
    "<div style=\"text-align:center; font-size:2rem\">\n",
    "КПІ ім. І. Сікорського<br>\n",
    "Телпоенергетичний факультет<br>\n",
    "Кафедра АПЕПС<br><br>\n",
    "Лабораторна робота №28<br>\n",
    "Варіант №17<br><br>\n",
    "Виконав: <br>\n",
    "студент гр. ТІ-81<br>\n",
    "Соломаха О. О.<br><br>\n",
    "Перевірив:<br>\n",
    "Сігайов А. О.<br><br>\n",
    "Київ КПІ 2019<br>\n",
    "</div>"
   ]
  },
  {
   "cell_type": "markdown",
   "metadata": {
    "pycharm": {
     "name": "#%% md\n"
    }
   },
   "source": [
    "## Варіант №17\n",
    "\n",
    "### Завдання №586\n",
    "\n",
    "Дано натуральне числа $p, q$. Отримати $q$-ічне представлення числа $p$ у вигляді послідовності $a_0,...,a_n$ цілих\n",
    "невід'ємних чисел, що $a_i \\lt q$ $(i=0,...,n)$ і $p=q_n q^n+...+a_1 q + a_0$ $(a_n \\ne 0)$"
   ]
  },
  {
   "cell_type": "code",
   "execution_count": 8,
   "metadata": {
    "pycharm": {
     "name": "#%%\n"
    }
   },
   "outputs": [
    {
     "name": "stdout",
     "output_type": "stream",
     "text": [
      "Enter p: 2\n",
      "Enter q: 2\n",
      "['1', '0']\n"
     ]
    }
   ],
   "source": [
    "p, q = int(input('Enter p: ')), int(input('Enter q: '))\n",
    "\n",
    "a = []\n",
    "\n",
    "while p > 0:\n",
    "    p_q = p % q\n",
    "    a.insert(0, p_q)\n",
    "    p = int(p / q)\n",
    "\n",
    "a = [chr(ord('0') + el) if el < 10 else chr(ord('a') + el - 10) for el in a]\n",
    "\n",
    "print(a)"
   ]
  },
  {
   "cell_type": "code",
   "execution_count": null,
   "metadata": {},
   "outputs": [],
   "source": []
  }
 ],
 "metadata": {
  "kernelspec": {
   "display_name": "Python 3",
   "language": "python",
   "name": "python3"
  },
  "language_info": {
   "codemirror_mode": {
    "name": "ipython",
    "version": 3
   },
   "file_extension": ".py",
   "mimetype": "text/x-python",
   "name": "python",
   "nbconvert_exporter": "python",
   "pygments_lexer": "ipython3",
   "version": "3.7.4"
  },
  "pycharm": {
   "stem_cell": {
    "cell_type": "raw",
    "metadata": {
     "collapsed": false
    },
    "source": []
   }
  }
 },
 "nbformat": 4,
 "nbformat_minor": 2
}
