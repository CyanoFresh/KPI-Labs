{
 "cells": [
  {
   "cell_type": "markdown",
   "metadata": {},
   "source": [
    "<div style=\"text-align:center; font-size:2rem\">\n",
    "КПІ ім. І. Сікорського<br>\n",
    "Телпоенергетичний факультет<br>\n",
    "Кафедра АПЕПС<br><br>\n",
    "Лабораторна робота №24<br>\n",
    "Варіант №17<br><br>\n",
    "Виконав: <br>\n",
    "студент гр. ТІ-81<br>\n",
    "Соломаха О. О.<br><br>\n",
    "Перевірив:<br>\n",
    "Сігайов А. О.<br><br>\n",
    "Київ КПІ 2019<br>\n",
    "</div>"
   ]
  },
  {
   "cell_type": "markdown",
   "metadata": {},
   "source": [
    "## Варіант №17\n",
    "\n",
    "### Завдання №498\n",
    "\n",
    "Дано символьний файл $f$. Знайти найдовше слово серед слів, друга буква яких - \"е\". Якщо таких слів не має - повідомити про це. Розвязати:\n",
    "\n",
    "- маючи на увазі, що слова мають довжину менше 10 символів\n",
    "- без обмежень на довжину слова"
   ]
  },
  {
   "cell_type": "code",
   "execution_count": 6,
   "metadata": {
    "pycharm": {
     "is_executing": false,
     "name": "#%%\n"
    }
   },
   "outputs": [
    {
     "name": "stdout",
     "output_type": "stream",
     "text": [
      "Enter filename: 24\n",
      "Result:  helicopter\n"
     ]
    }
   ],
   "source": [
    "filename = input(\"Enter filename: \")\n",
    "maxLength = 0\n",
    "maxWord = None\n",
    "\n",
    "with open(filename) as file:\n",
    "    data = file.read()\n",
    "    words = data.split()\n",
    "    for word in words:\n",
    "        length = len(word)\n",
    "\n",
    "        if length > 10 or word[1] != 'e':\n",
    "            continue\n",
    "        elif length > maxLength:\n",
    "            maxLength = length\n",
    "            maxWord = word\n",
    "\n",
    "if maxWord:\n",
    "    print(\"Result: \", maxWord)\n",
    "else:\n",
    "    print(\"No such words\")"
   ]
  }
 ],
 "metadata": {
  "kernelspec": {
   "display_name": "Python 3",
   "language": "python",
   "name": "python3"
  },
  "language_info": {
   "codemirror_mode": {
    "name": "ipython",
    "version": 3
   },
   "file_extension": ".py",
   "mimetype": "text/x-python",
   "name": "python",
   "nbconvert_exporter": "python",
   "pygments_lexer": "ipython3",
   "version": "3.7.4"
  },
  "pycharm": {
   "stem_cell": {
    "cell_type": "raw",
    "metadata": {
     "collapsed": false
    },
    "source": []
   }
  }
 },
 "nbformat": 4,
 "nbformat_minor": 2
}
