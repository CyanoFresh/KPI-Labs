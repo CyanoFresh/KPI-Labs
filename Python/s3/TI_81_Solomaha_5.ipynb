{
 "cells": [
  {
   "cell_type": "markdown",
   "metadata": {},
   "source": [
    "<div style=\"text-align:center; font-size:2rem\">\n",
    "КПІ ім. І. Сікорського<br>\n",
    "Телпоенергетичний факультет<br>\n",
    "Кафедра АПЕПС<br><br>\n",
    "Лабораторна робота №5<br>\n",
    "Варіант №17<br><br>\n",
    "Виконав: <br>\n",
    "студент гр. ТІ-81<br>\n",
    "Соломаха О. О.<br><br>\n",
    "Перевірив:<br>\n",
    "Сігайов А. О.<br><br>\n",
    "Київ КПІ 2019<br>\n",
    "</div>"
   ]
  },
  {
   "cell_type": "markdown",
   "metadata": {},
   "source": [
    "## Варіант №17\n",
    "\n",
    "### Завдання №83\n",
    "\n",
    "Дано дійсне число $а$. Знайти серед $1, 1 + \\frac{1}{2}, 1 + \\frac{1}{2} + \\frac{1}{3}$, ... перше, більше за $а$."
   ]
  },
  {
   "cell_type": "code",
   "execution_count": 1,
   "metadata": {},
   "outputs": [
    {
     "name": "stdout",
     "output_type": "stream",
     "text": [
      "Enter a:3\n",
      "3\n",
      "3.0198773448773446\n"
     ]
    }
   ],
   "source": [
    "a = abs(int(input('Enter a:')))\n",
    "\n",
    "print(a)\n",
    "\n",
    "i = 2\n",
    "n = 1\n",
    "\n",
    "while n < a:\n",
    "    n += 1 / i\n",
    "    i += 1\n",
    "\n",
    "print(n)\n"
   ]
  }
 ],
 "metadata": {
  "kernelspec": {
   "display_name": "Python 3",
   "language": "python",
   "name": "python3"
  },
  "language_info": {
   "codemirror_mode": {
    "name": "ipython",
    "version": 3
   },
   "file_extension": ".py",
   "mimetype": "text/x-python",
   "name": "python",
   "nbconvert_exporter": "python",
   "pygments_lexer": "ipython3",
   "version": "3.7.4"
  },
  "pycharm": {
   "stem_cell": {
    "cell_type": "raw",
    "metadata": {
     "collapsed": false
    },
    "source": []
   }
  }
 },
 "nbformat": 4,
 "nbformat_minor": 2
}
