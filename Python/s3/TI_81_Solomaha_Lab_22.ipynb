{
 "cells": [
  {
   "cell_type": "markdown",
   "metadata": {},
   "source": [
    "<div style=\"text-align:center; font-size:2rem\">\n",
    "КПІ ім. І. Сікорського<br>\n",
    "Телпоенергетичний факультет<br>\n",
    "Кафедра АПЕПС<br><br>\n",
    "Лабораторна робота №22<br>\n",
    "Варіант №17<br><br>\n",
    "Виконав: <br>\n",
    "студент гр. ТІ-81<br>\n",
    "Соломаха О. О.<br><br>\n",
    "Перевірив:<br>\n",
    "Сігайов А. О.<br><br>\n",
    "Київ КПІ 2019<br>\n",
    "</div>"
   ]
  },
  {
   "cell_type": "markdown",
   "metadata": {},
   "source": [
    "## Варіант №17\n",
    "\n",
    "### Завдання №451\n",
    "\n",
    "Дано натуральні числа $x_1,y_1,x_2,y_2,...,x_6,y_6$. Точки з координатами $(x_1,y_1),(x_2,y_2),(x_3,y_3)$ розглядаються \n",
    "як 3 вершини першого прямокутника, точки $(x_4,y_4),(x_5,y_5),(x_5,y_5)$ - другого. Провести побудування, аналогічні тим,\n",
    "які були описані в попередній задачі по відношенню до трикутників."
   ]
  },
  {
   "cell_type": "code",
   "execution_count": 8,
   "metadata": {
    "pycharm": {
     "is_executing": false,
     "name": "#%%\n"
    }
   },
   "outputs": [
    {
     "data": {
      "text/plain": [
       "(0.85, 4.15, 0.75, 6.25)"
      ]
     },
     "execution_count": 8,
     "metadata": {},
     "output_type": "execute_result"
    },
    {
     "data": {
      "image/png": "[encoded data removed]",
      "text/plain": [
       "<Figure size 432x288 with 1 Axes>"
      ]
     },
     "metadata": {
      "needs_background": "light"
     },
     "output_type": "display_data"
    }
   ],
   "source": [
    "%matplotlib inline\n",
    "import matplotlib.pyplot as plt\n",
    "from matplotlib.patches import Rectangle\n",
    "\n",
    "\n",
    "def contains(r1, r2):\n",
    "    coords1 = r1.get_bbox().get_points()\n",
    "    coords2 = r2.get_bbox().get_points()\n",
    "    return coords1[0][0] <= coords2[0][0] <= coords2[1][0] <= coords1[1][0] and coords1[0][1] <= coords2[0][1] <= coords2[1][1] <= coords1[1][1]\n",
    "\n",
    "\n",
    "ax = plt.gca()\n",
    "\n",
    "rect1 = Rectangle((1, 1), 3, 5, linewidth=3, edgecolor='r', facecolor='none')\n",
    "rect2 = Rectangle((2, 2), 1, 2, linewidth=3, edgecolor='g', facecolor='none')\n",
    "# rect1 = Rectangle((1, 1), 3, 5, linewidth=3, edgecolor='r', facecolor='none')\n",
    "# rect2 = Rectangle((3, 3), 2, 2, linewidth=3, edgecolor='g', facecolor='none')\n",
    "\n",
    "if contains(rect1, rect2):\n",
    "    rect1.set_facecolor('r')\n",
    "    rect2.set_facecolor('w')\n",
    "\n",
    "if contains(rect2, rect1):\n",
    "    rect1.set_facecolor('w')\n",
    "    rect2.set_facecolor('r')\n",
    "\n",
    "ax.add_patch(rect1)\n",
    "ax.add_patch(rect2)\n",
    "plt.axis('scaled')\n",
    "#plt.show()"
   ]
  },
  {
   "cell_type": "code",
   "execution_count": null,
   "metadata": {},
   "outputs": [],
   "source": []
  }
 ],
 "metadata": {
  "kernelspec": {
   "display_name": "Python 3",
   "language": "python",
   "name": "python3"
  },
  "language_info": {
   "codemirror_mode": {
    "name": "ipython",
    "version": 3
   },
   "file_extension": ".py",
   "mimetype": "text/x-python",
   "name": "python",
   "nbconvert_exporter": "python",
   "pygments_lexer": "ipython3",
   "version": "3.7.4"
  },
  "pycharm": {
   "stem_cell": {
    "cell_type": "raw",
    "metadata": {
     "collapsed": false
    },
    "source": []
   }
  }
 },
 "nbformat": 4,
 "nbformat_minor": 2
}
