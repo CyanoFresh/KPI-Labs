{
 "cells": [
  {
   "cell_type": "markdown",
   "metadata": {},
   "source": [
    "<div style=\"text-align:center; font-size:2rem\">\n",
    "КПІ ім. І. Сікорського<br>\n",
    "Телпоенергетичний факультет<br>\n",
    "Кафедра АПЕПС<br><br>\n",
    "Лабораторна робота №4<br>\n",
    "Варіант №17<br><br>\n",
    "Виконав: <br>\n",
    "студент гр. ТІ-81<br>\n",
    "Соломаха О. О.<br><br>\n",
    "Перевірив:<br>\n",
    "Сігайов А. О.<br><br>\n",
    "Київ КПІ 2019<br>\n",
    "</div>"
   ]
  },
  {
   "cell_type": "markdown",
   "metadata": {},
   "source": [
    "## Варіант №17\n",
    "\n",
    "### Завдання №810\n",
    "\n",
    "Дано натуральне число $n$ ($n \\leq 1000$). Записати кількісний числівник, який відповідає $n$."
   ]
  },
  {
   "cell_type": "code",
   "execution_count": 1,
   "metadata": {},
   "outputs": [
    {
     "name": "stdout",
     "output_type": "stream",
     "text": [
      "Enter n:410\n",
      "четыриста десять \n"
     ]
    }
   ],
   "source": [
    "n = int(input('Enter n:'))\n",
    "\n",
    "hundredsArr = [\n",
    "    '',\n",
    "    'сто',\n",
    "    'двести',\n",
    "    'триста',\n",
    "    'четыреста',\n",
    "    'пятьсот',\n",
    "    'шестьсот',\n",
    "    'семьсот',\n",
    "    'восемьсот',\n",
    "    'девятьсот',\n",
    "]\n",
    "\n",
    "dozensArr = [\n",
    "    '',\n",
    "    'десять',\n",
    "    'двадцать',\n",
    "    'тридцать',\n",
    "    'сорок',\n",
    "    'пятьдесят',\n",
    "    'шестьдесят',\n",
    "    'семьдесят',\n",
    "    'восемьдесят',\n",
    "    'девяносто',\n",
    "]\n",
    "\n",
    "numbersArr = [\n",
    "    '',\n",
    "    'один',\n",
    "    'два',\n",
    "    'три',\n",
    "    'четыре',\n",
    "    'пять',\n",
    "    'шесть',\n",
    "    'семь',\n",
    "    'восемь',\n",
    "    'девять',\n",
    "]\n",
    "\n",
    "if n == 1000:\n",
    "    print('тысяча')\n",
    "else:\n",
    "    hundreds = int(n / 100)\n",
    "    dozens = int(n % 100 / 10)\n",
    "    number = n % 10\n",
    "    print(hundredsArr[hundreds], dozensArr[dozens], numbersArr[number])\n"
   ]
  }
 ],
 "metadata": {
  "kernelspec": {
   "display_name": "Python 3",
   "language": "python",
   "name": "python3"
  },
  "language_info": {
   "codemirror_mode": {
    "name": "ipython",
    "version": 3
   },
   "file_extension": ".py",
   "mimetype": "text/x-python",
   "name": "python",
   "nbconvert_exporter": "python",
   "pygments_lexer": "ipython3",
   "version": "3.7.4"
  }
 },
 "nbformat": 4,
 "nbformat_minor": 2
}
