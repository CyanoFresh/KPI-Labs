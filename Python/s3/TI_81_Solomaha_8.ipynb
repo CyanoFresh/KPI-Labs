{
 "cells": [
  {
   "cell_type": "markdown",
   "metadata": {},
   "source": [
    "<div style=\"text-align:center; font-size:2rem\">\n",
    "КПІ ім. І. Сікорського<br>\n",
    "Телпоенергетичний факультет<br>\n",
    "Кафедра АПЕПС<br><br>\n",
    "Лабораторна робота №8<br>\n",
    "Варіант №17<br><br>\n",
    "Виконав: <br>\n",
    "студент гр. ТІ-81<br>\n",
    "Соломаха О. О.<br><br>\n",
    "Перевірив:<br>\n",
    "Сігайов А. О.<br><br>\n",
    "Київ КПІ 2019<br>\n",
    "</div>"
   ]
  },
  {
   "cell_type": "markdown",
   "metadata": {},
   "source": [
    "## Варіант №17\n",
    "\n",
    "### Завдання №137в\n",
    "\n",
    "Дано натуральне число $n$, дійсні числа $a_1,...,a_n$. Обчислити:\n",
    "\n",
    "$$|a_1|,|a_1+a_2|,...,|a_1+...+a_n|$$"
   ]
  },
  {
   "cell_type": "code",
   "execution_count": 1,
   "metadata": {
    "pycharm": {
     "name": "#%%\n",
     "is_executing": false
    }
   },
   "outputs": [
    {
     "name": "stdout",
     "text": [
      "1.0\n2.0\n2.0\n12.0\n212.0\n92.0\n"
     ],
     "output_type": "stream"
    }
   ],
   "source": [
    "import math\n",
    "import random\n",
    "\n",
    "n = int(input('Enter n: '))\n",
    "\n",
    "a = random.sample(range(-100, 100), n)\n",
    "\n",
    "print('a = ', a)\n",
    "\n",
    "i = 1\n",
    "while i <= n:\n",
    "    chunk = math.fabs(sum(a[k] for k in range(i)))\n",
    "    print(chunk)\n",
    "    i += 1\n"
   ]
  }
 ],
 "metadata": {
  "kernelspec": {
   "display_name": "Python 3",
   "language": "python",
   "name": "python3"
  },
  "language_info": {
   "codemirror_mode": {
    "name": "ipython",
    "version": 3
   },
   "file_extension": ".py",
   "mimetype": "text/x-python",
   "name": "python",
   "nbconvert_exporter": "python",
   "pygments_lexer": "ipython3",
   "version": "3.7.4"
  },
  "pycharm": {
   "stem_cell": {
    "cell_type": "raw",
    "source": [],
    "metadata": {
     "collapsed": false
    }
   }
  }
 },
 "nbformat": 4,
 "nbformat_minor": 2
}