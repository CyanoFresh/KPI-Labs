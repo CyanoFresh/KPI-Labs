{
 "cells": [
  {
   "cell_type": "markdown",
   "metadata": {},
   "source": [
    "<div style=\"text-align:center; font-size:2rem\">\n",
    "КПІ ім. І. Сікорського<br>\n",
    "Телпоенергетичний факультет<br>\n",
    "Кафедра АПЕПС<br><br>\n",
    "Лабораторна робота №21<br>\n",
    "Варіант №17<br><br>\n",
    "Виконав: <br>\n",
    "студент гр. ТІ-81<br>\n",
    "Соломаха О. О.<br><br>\n",
    "Перевірив:<br>\n",
    "Сігайов А. О.<br><br>\n",
    "Київ КПІ 2019<br>\n",
    "</div>"
   ]
  },
  {
   "cell_type": "markdown",
   "metadata": {},
   "source": [
    "## Варіант №17\n",
    "\n",
    "### Завдання №440\n",
    "\n",
    "Дано натуральне число $n$, цілі числа $a_1,...,a_n$. Розглянути відрізки послідновності $a_1,...,a_n$ \n",
    "(підпослідовності йдучих підряд членів), складені з:\n",
    "- повних квадратів\n",
    "- степеней п'ятірки\n",
    "- простих чисел\n",
    "\n",
    "У кожному випадку отримати найбільшу з довжин розглянутих послідовностей. (Визначити процедури для розпізнавання \n",
    "повних квадратів, степеней п'ятірки, прості числа)"
   ]
  },
  {
   "cell_type": "code",
   "execution_count": 9,
   "metadata": {
    "pycharm": {
     "is_executing": false,
     "name": "#%%\n"
    }
   },
   "outputs": [
    {
     "name": "stdout",
     "output_type": "stream",
     "text": [
      "Enter n: 20\n",
      "[881, 701, 451, 713, 958, 199, 3, 785, 960, 313, 951, 551, 447, 236, 389, 581, 38, 807, 318, 268]\n",
      "2\n",
      "0\n",
      "0\n"
     ]
    }
   ],
   "source": [
    "import random\n",
    "from math import sqrt\n",
    "\n",
    "\n",
    "def is_prime(num):\n",
    "    for i in range(2, num):\n",
    "        if (num % i) == 0:\n",
    "            return False\n",
    "    else:\n",
    "        return True\n",
    "\n",
    "\n",
    "def is_square(num):\n",
    "    return int(sqrt(num)) == sqrt(num)\n",
    "\n",
    "\n",
    "def is_pow(num):\n",
    "    res = 1\n",
    "    while res < num:\n",
    "        res *= 5\n",
    "    return res == num\n",
    "\n",
    "\n",
    "n = int(input('Enter n: '))\n",
    "a = [random.randint(0, 1000) for _ in range(n)]\n",
    "\n",
    "max_a_count = 0\n",
    "max_b_count = 0\n",
    "max_c_count = 0\n",
    "\n",
    "a_count = 0\n",
    "b_count = 0\n",
    "c_count = 0\n",
    "\n",
    "for el in a:\n",
    "    if is_prime(el):\n",
    "        a_count += 1\n",
    "    else:\n",
    "        if a_count > max_a_count:\n",
    "            max_a_count = a_count\n",
    "        a_count = 0\n",
    "\n",
    "    if is_square(el):\n",
    "        b_count += 1\n",
    "    else:\n",
    "        if b_count > max_b_count:\n",
    "            max_b_count = b_count\n",
    "        b_count = 0\n",
    "\n",
    "    if is_pow(el):\n",
    "        c_count += 1\n",
    "    else:\n",
    "        if c_count > max_c_count:\n",
    "            max_c_count = c_count\n",
    "        c_count = 0\n",
    "\n",
    "print(a)\n",
    "print(max_a_count)\n",
    "print(max_b_count)\n",
    "print(max_c_count)"
   ]
  },
  {
   "cell_type": "code",
   "execution_count": null,
   "metadata": {},
   "outputs": [],
   "source": []
  }
 ],
 "metadata": {
  "kernelspec": {
   "display_name": "Python 3",
   "language": "python",
   "name": "python3"
  },
  "language_info": {
   "codemirror_mode": {
    "name": "ipython",
    "version": 3
   },
   "file_extension": ".py",
   "mimetype": "text/x-python",
   "name": "python",
   "nbconvert_exporter": "python",
   "pygments_lexer": "ipython3",
   "version": "3.7.4"
  },
  "pycharm": {
   "stem_cell": {
    "cell_type": "raw",
    "metadata": {
     "collapsed": false
    },
    "source": []
   }
  }
 },
 "nbformat": 4,
 "nbformat_minor": 2
}
